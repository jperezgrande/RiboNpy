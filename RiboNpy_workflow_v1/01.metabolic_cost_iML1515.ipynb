{
 "cells": [
  {
   "attachments": {},
   "cell_type": "markdown",
   "metadata": {},
   "source": [
    "# **Metabolic cost computations in iML1515**"
   ]
  },
  {
   "cell_type": "code",
   "execution_count": 2,
   "metadata": {},
   "outputs": [],
   "source": [
    "import cobra\n",
    "import pandas as pd\n",
    "from cobra.io import load_model \n",
    "from cobra.medium import minimal_medium"
   ]
  },
  {
   "cell_type": "code",
   "execution_count": 8,
   "metadata": {},
   "outputs": [
    {
     "name": "stdout",
     "output_type": "stream",
     "text": [
      "Objective\n",
      "=========\n",
      "1.0 BIOMASS_Ec_iML1515_core_75p37M = 0.8697726420320139\n",
      "\n",
      "Uptake\n",
      "------\n",
      "Metabolite     Reaction      Flux  C-Number  C-Flux\n",
      "     ca2_e     EX_ca2_e  0.004527         0   0.00%\n",
      "      cl_e      EX_cl_e  0.004527         0   0.00%\n",
      " cobalt2_e EX_cobalt2_e 2.174E-05         0   0.00%\n",
      "     cu2_e     EX_cu2_e 0.0006167         0   0.00%\n",
      "     fe2_e     EX_fe2_e   0.01397         0   0.00%\n",
      "  glc__D_e  EX_glc__D_e        10         6 100.00%\n",
      "       k_e       EX_k_e    0.1698         0   0.00%\n",
      "     mg2_e     EX_mg2_e  0.007545         0   0.00%\n",
      "     mn2_e     EX_mn2_e  0.000601         0   0.00%\n",
      "    mobd_e    EX_mobd_e 6.088E-06         0   0.00%\n",
      "     nh4_e     EX_nh4_e     9.393         0   0.00%\n",
      "     ni2_e     EX_ni2_e 0.0002809         0   0.00%\n",
      "      o2_e      EX_o2_e     22.44         0   0.00%\n",
      "      pi_e      EX_pi_e     0.839         0   0.00%\n",
      "     so4_e     EX_so4_e     0.219         0   0.00%\n",
      "     zn2_e     EX_zn2_e 0.0002966         0   0.00%\n",
      "\n",
      "Secretion\n",
      "---------\n",
      "Metabolite    Reaction       Flux  C-Number C-Flux\n",
      "  4crsol_c DM_4crsol_c  -0.000194         7  0.01%\n",
      "   5drib_c  DM_5drib_c -0.0001957         5  0.00%\n",
      "    amob_c   DM_amob_c  -1.74E-06        15  0.00%\n",
      "     co2_e    EX_co2_e      -24.3         1 99.99%\n",
      "     h2o_e    EX_h2o_e     -47.27         0  0.00%\n",
      "       h_e      EX_h_e     -7.992         0  0.00%\n",
      "    meoh_e   EX_meoh_e  -1.74E-06         1  0.00%\n",
      "\n",
      "2712\n",
      "1877\n",
      "1516\n"
     ]
    }
   ],
   "source": [
    "# Load the iML1515 model and run statistics\n",
    "\n",
    "model = cobra.io.read_sbml_model(\"./data/models/iML1515_new.xml\")\n",
    "model.summary()\n",
    "print(model.summary())\n",
    "\n",
    "print(len(model.reactions))\n",
    "print(len(model.metabolites))\n",
    "print(len(model.genes))"
   ]
  },
  {
   "cell_type": "code",
   "execution_count": 9,
   "metadata": {},
   "outputs": [
    {
     "name": "stderr",
     "output_type": "stream",
     "text": [
      "c:\\Users\\joaqu\\AppData\\Local\\Programs\\Python\\Python310\\lib\\site-packages\\cobra\\medium\\minimal_medium.py:112: FutureWarning: The default dtype for empty Series will be 'object' instead of 'float64' in a future version. Specify a dtype explicitly to silence this warning.\n",
      "  medium = pd.Series()\n"
     ]
    }
   ],
   "source": [
    "# Fix the glucose uptake rate and set up the medium for metabolite production \n",
    "\n",
    "minimal_medium(model, 0.1, minimize_components=True)\n",
    "\n",
    "glucose_rxn = model.reactions.get_by_id(\"EX_glc__D_e\")\n",
    "glucose_rxn.lower_bound = -10\n",
    "\n",
    "model.reactions.get_by_id(\"EX_o2_e\").upper_bound= 1000\n",
    "model.reactions.get_by_id(\"EX_nh4_e\").upper_bound= 1000\n",
    "model.reactions.get_by_id(\"EX_pi_e\").upper_bound= 1000"
   ]
  },
  {
   "cell_type": "code",
   "execution_count": 10,
   "metadata": {},
   "outputs": [
    {
     "name": "stdout",
     "output_type": "stream",
     "text": [
      "       Reaction       Flux Glucose_Uptake  Yield\n",
      "0   EX_ala__L_e  19.859623             10   1.99\n",
      "1   EX_arg__L_e   8.274286             10   0.83\n",
      "2   EX_asn__L_e  15.935354             10   1.59\n",
      "3   EX_asp__L_e  17.975172             10   1.80\n",
      "4   EX_cys__L_e   9.839501             10   0.98\n",
      "5   EX_gln__L_e   0.000000             10   0.00\n",
      "6   EX_glu__L_e  11.814928             10   1.18\n",
      "7      EX_gly_e  27.012174             10   2.70\n",
      "8   EX_his__L_e   8.062692             10   0.81\n",
      "9   EX_ile__L_e   7.240000             10   0.72\n",
      "10  EX_leu__L_e   7.513617             10   0.75\n",
      "11  EX_lys__L_e   7.722667             10   0.77\n",
      "12  EX_met__L_e   5.909447             10   0.59\n",
      "13  EX_phe__L_e   5.427523             10   0.54\n",
      "14  EX_pro__L_e  10.019104             10   1.00\n",
      "15  EX_ser__L_e  20.625882             10   2.06\n",
      "16  EX_thr__L_e  12.325000             10   1.23\n",
      "17  EX_trp__L_e   4.464906             10   0.45\n",
      "18  EX_tyr__L_e   5.635459             10   0.56\n",
      "19  EX_val__L_e   9.929811             10   0.99\n"
     ]
    }
   ],
   "source": [
    "# List of amino acids\n",
    "amino_acids = ['ala__L', 'arg__L', 'asn__L', 'asp__L', 'cys__L', 'gln__L', 'glu__L', \n",
    "               'gly', 'his__L', 'ile__L', 'leu__L', 'lys__L', 'met__L', 'phe__L',\n",
    "               'pro__L', 'ser__L', 'thr__L', 'trp__L', 'tyr__L', 'val__L']\n",
    "\n",
    "# Initialise an empty DataFrame to store the results\n",
    "amino_acid_flux_df = pd.DataFrame(columns=['Reaction', 'Flux', 'Glucose_Uptake', 'Yield'])\n",
    "\n",
    "# Optimize the flux of each amino acid exchange reaction\n",
    "for aa in amino_acids:\n",
    "    ex_rxn_id = f\"EX_{aa}_e\"\n",
    "    ex_rxn = model.reactions.get_by_id(ex_rxn_id)\n",
    "    \n",
    "    # Set the objective to the exchange reaction of the amino acid\n",
    "    model.objective = ex_rxn\n",
    "    \n",
    "    # Optimize the model\n",
    "    solution = model.optimize()\n",
    "    flux = solution.objective_value\n",
    "    \n",
    "    # Calculate flux per glucose uptake\n",
    "    glc_yield = flux / abs(glucose_rxn.lower_bound)\n",
    "    \n",
    "    # Create a new DataFrame with the results for the current amino acid\n",
    "    aa_flux_df = pd.DataFrame({'Reaction': [ex_rxn_id], 'Flux': [flux], 'Glucose_Uptake': [abs(glucose_rxn.lower_bound)], 'Yield': [round(glc_yield,2)]})\n",
    "\n",
    "    # Concatenate the new DataFrame to the existing amino_acid_flux_df\n",
    "    amino_acid_flux_df = pd.concat([amino_acid_flux_df, aa_flux_df], ignore_index=True)\n",
    "\n",
    "# Display the final DataFrame\n",
    "print(amino_acid_flux_df)"
   ]
  },
  {
   "cell_type": "code",
   "execution_count": 11,
   "metadata": {},
   "outputs": [],
   "source": [
    "# Save the DataFrame to a CSV file\n",
    "amino_acid_flux_df.to_csv('./metabolic_cost/iML1515_amino_acid_flux_file.csv', index=False)"
   ]
  }
 ],
 "metadata": {
  "kernelspec": {
   "display_name": "Python 3",
   "language": "python",
   "name": "python3"
  },
  "language_info": {
   "codemirror_mode": {
    "name": "ipython",
    "version": 3
   },
   "file_extension": ".py",
   "mimetype": "text/x-python",
   "name": "python",
   "nbconvert_exporter": "python",
   "pygments_lexer": "ipython3",
   "version": "3.10.8"
  },
  "orig_nbformat": 4
 },
 "nbformat": 4,
 "nbformat_minor": 2
}
