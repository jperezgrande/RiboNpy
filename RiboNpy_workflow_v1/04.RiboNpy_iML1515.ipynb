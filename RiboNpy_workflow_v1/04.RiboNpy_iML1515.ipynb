{
 "cells": [
  {
   "attachments": {},
   "cell_type": "markdown",
   "metadata": {},
   "source": [
    "# **Constraining the toy model using the RiboNpy workflow**"
   ]
  },
  {
   "attachments": {},
   "cell_type": "markdown",
   "metadata": {},
   "source": [
    "# Import related packages"
   ]
  },
  {
   "cell_type": "code",
   "execution_count": null,
   "metadata": {},
   "outputs": [],
   "source": [
    "import cobra\n",
    "import sys\n",
    "import tempfile\n",
    "import pandas as pd\n",
    "import numpy as np\n",
    "sys.path.append(r'./code/')\n",
    "from cobra.io import load_json_model, write_sbml_model, validate_sbml_model\n",
    "from pprint import pprint\n",
    "from libsbml import *\n",
    "from cobra import Model, Metabolite, Reaction\n",
    "from ribonpy_core_functions import *\n",
    "\n",
    "import json\n",
    "import math\n",
    "import re\n",
    "import statistics\n",
    "import os\n",
    "import shutil\n",
    "import random\n",
    "from cobra.core import Reaction\n",
    "from cobra.io.dict import model_to_dict\n",
    "from cobra.util.solver import set_objective\n",
    "from xml.dom import minidom\n",
    "from optlang.symbolics import Zero, add\n",
    "from cobra.flux_analysis import flux_variability_analysis"
   ]
  },
  {
   "attachments": {},
   "cell_type": "markdown",
   "metadata": {},
   "source": [
    "# 1 Construct Raw Ribozyme-Constrained Model"
   ]
  },
  {
   "attachments": {},
   "cell_type": "markdown",
   "metadata": {},
   "source": [
    "Input and output files"
   ]
  },
  {
   "cell_type": "code",
   "execution_count": null,
   "metadata": {},
   "outputs": [],
   "source": [
    "#input files\n",
    "# The genome-scale metabolic model for constructing the ribozyme-constrained model\n",
    "model_name = './data/models/iML1515_new.xml'\n",
    "obj_reaction = 'BIOMASS_Ec_iML1515_core_75p37M'\n",
    "\n",
    "# Reaction-kcat file.\n",
    "# eg. AADDGT,64.41327046 #s-1\n",
    "reaction_kcat_file = './data/nc_machine_learning_kapp.json'\n",
    "select_key = 'kappmax_ensemble_model_s-1'\n",
    "\n",
    "# Gene-abundance file organized from PAXdb\n",
    "# eg. b0789,1.1\n",
    "gene_abundance_file = \"./data/gene_abundance-toy.csv\"\n",
    "\n",
    "# Gene-molecular_weight file organized from EcoCyc\n",
    "# eg. b3500,48.77251\n",
    "gene_molecular_weight_file = \"./data/gene_molecular_weight-toy.csv\"\n",
    "\n",
    "reaction_gene_subunit_file = \"./data/reaction_gene_subunit-toy.csv\"\n",
    "c13reaction_file = './data/C13reaction.csv' \n",
    "\n",
    "# Input ribozyme files\n",
    "nucleotide_MW_file = \"./data/nucleotide_MW.csv\"\n",
    "sequence_motifs_file = None\n",
    "reactions_subset_file = None"
   ]
  },
  {
   "cell_type": "code",
   "execution_count": null,
   "metadata": {},
   "outputs": [],
   "source": [
    "# Output files\n",
    "gene_outfile = \"./analysis/iML1515/genes.csv\"\n",
    "gpr_outfile = \"./analysis/iML1515/all_reaction_GPR.csv\"\n",
    "reaction_gene_subunit_MW_file = \"./analysis/iML1515/reaction_gene_subunit_MW.csv\"\n",
    "reaction_MW_file = \"./analysis/iML1515/reaction_MW.csv\"\n",
    "reaction_kcat_MW_file = \"./analysis/iML1515/modified_reaction_kcat_MW.csv\"\n",
    "json_output_file=\"./model/iML1515_irr_enz_ribozyme_constraint.json\"\n",
    "RiboNpy_fluxes_outfile = './analysis/iML1515/RiboNpy_ori_solution_df_pfba.csv'\n",
    "GEM_fluxes_outfile = './analysis/iML1515/Orimodel_solution_df_pfba.csv'\n",
    "\n",
    "# Output ribozyme files\n",
    "ribozyme_data_file = './analysis/iML1515/ribozyme_data.csv'\n",
    "modified_reaction_MW_file = './analysis/iML1515/modified_reaction_MW.csv'\n",
    "modified_biosynthesis_reaction_MW_file = \"./analysis/iML1515/modified_biosynthesis_reaction_MW.csv\"\n",
    "modified_reaction_kcat_MW_file = \"./analysis/iML1515/modified_reaction_kcat_MW.csv\""
   ]
  },
  {
   "attachments": {},
   "cell_type": "markdown",
   "metadata": {},
   "source": [
    "Step1: preprocessing of the model"
   ]
  },
  {
   "cell_type": "code",
   "execution_count": null,
   "metadata": {},
   "outputs": [],
   "source": [
    "model = cobra.io.read_sbml_model(model_name) \n",
    "convert_to_irreversible(model)\n",
    "#split isoenzyme\n",
    "model = isoenzyme_split(model)\n",
    "model"
   ]
  },
  {
   "attachments": {},
   "cell_type": "markdown",
   "metadata": {},
   "source": [
    "Step2: Retrieving and calculating proteozyme and ribozyme kinetics and proteomics data"
   ]
  },
  {
   "cell_type": "code",
   "execution_count": null,
   "metadata": {},
   "outputs": [],
   "source": [
    "[genes,gpr_relationship] = get_genes_and_gpr(model,gene_outfile,gpr_outfile)"
   ]
  },
  {
   "cell_type": "code",
   "execution_count": null,
   "metadata": {},
   "outputs": [],
   "source": [
    "reaction_gene_subunit_MW = get_reaction_gene_subunit_MW(reaction_gene_subunit_file,gene_molecular_weight_file,reaction_gene_subunit_MW_file)\n",
    "reaction_gene_subunit_MW.head(5)"
   ]
  },
  {
   "cell_type": "code",
   "execution_count": null,
   "metadata": {},
   "outputs": [],
   "source": [
    "sequence_length = 79\n",
    "nucleotide_proportion = [0.25,0.25,0.25,0.25]\n",
    "new_ribozyme = True\n",
    "random_proportion = False\n",
    "\n",
    "ribozyme_MW = calculate_ribozyme_MW(nucleotide_MW_file, ribozyme_data_file, sequence_length, nucleotide_proportion, random_proportion, sequence_motifs_file, new_ribozyme)\n",
    "ribozyme_MW.head(5)"
   ]
  },
  {
   "cell_type": "code",
   "execution_count": null,
   "metadata": {},
   "outputs": [],
   "source": [
    "reaction_MW = calculate_reaction_mw(reaction_gene_subunit_MW_file,reaction_MW_file)\n",
    "reaction_MW.head(5)"
   ]
  },
  {
   "cell_type": "code",
   "execution_count": null,
   "metadata": {},
   "outputs": [],
   "source": [
    "new_reaction_selection = True\n",
    "reaction_fraction = 1\n",
    "selection_type = 'random'\n",
    "specific_reactions = None\n",
    "\n",
    "modified_reaction_MW, fraction_ribozyme_reactions = modify_reaction_MW(reaction_MW_file, modified_reaction_MW_file, reaction_fraction, ribozyme_data_file, selection_type, reactions_subset_file, specific_reactions, new_reaction_selection)\n",
    "modified_reaction_MW.head(5)"
   ]
  },
  {
   "cell_type": "code",
   "execution_count": null,
   "metadata": {},
   "outputs": [],
   "source": [
    "biosynth_costs_penalty = 1.320773\n",
    "biosynth_costs = True\n",
    "\n",
    "reaction_biosynthesis_costs = modify_reaction_biosynthesis_MW(modified_reaction_MW_file, modified_biosynthesis_reaction_MW_file, biosynth_costs_penalty, biosynth_costs)\n",
    "reaction_biosynthesis_costs.head(5)"
   ]
  },
  {
   "cell_type": "code",
   "execution_count": null,
   "metadata": {},
   "outputs": [],
   "source": [
    "ef_factor = 0.1\n",
    "\n",
    "modify_reaction_kcat_mw = calculate_modified_reaction_kcat_mw(reaction_kcat_file, modified_biosynthesis_reaction_MW_file, modified_reaction_kcat_MW_file, select_key, ef_factor)\n",
    "modify_reaction_kcat_mw.head(5)"
   ]
  },
  {
   "cell_type": "code",
   "execution_count": null,
   "metadata": {},
   "outputs": [],
   "source": [
    "# calculate average MW, average kcat and average kcat_MW\n",
    "\n",
    "# calculate average for each column\n",
    "kcat_avg = modify_reaction_kcat_mw['kcat'].mean()\n",
    "MW_avg = modify_reaction_kcat_mw['MW'].mean()\n",
    "kcat_MW_avg = modify_reaction_kcat_mw['kcat_MW'].mean()\n",
    "\n",
    "# print the results\n",
    "print(f\"Average kcat: {kcat_avg:.2f}\")\n",
    "print(f\"Average MW: {MW_avg:.2f}\")\n",
    "print(f\"Average kcat_MW: {kcat_MW_avg:.2f}\")\n",
    "\n",
    "# print(kcat_avg/MW_avg)"
   ]
  },
  {
   "attachments": {},
   "cell_type": "markdown",
   "metadata": {},
   "source": [
    "Step3: Save ribozyme concentration constraint model as json file."
   ]
  },
  {
   "cell_type": "code",
   "execution_count": null,
   "metadata": {},
   "outputs": [],
   "source": [
    "#The enzyme mass fraction \n",
    "f = 0.406\n",
    "# The total protein fraction in cell.\n",
    "ptot = 0.56 \n",
    "# The approximated average saturation of enzyme.\n",
    "sigma = 1 #kapp data sigma is 1\n",
    "# Lowerbound  of enzyme concentration constraint. \n",
    "lowerbound = 0   \n",
    "upperbound = round(ptot * f * sigma, 3)\n",
    "print(upperbound)"
   ]
  },
  {
   "cell_type": "code",
   "execution_count": null,
   "metadata": {},
   "outputs": [],
   "source": [
    "#create enzyme concentration constraint model\n",
    "trans_model2enz_json_model_split_isoenzyme(model_name, modified_reaction_kcat_MW_file, f, ptot, sigma, lowerbound, upperbound, json_output_file)\n",
    "\n",
    "enz_model=get_enzyme_constraint_model(json_output_file)"
   ]
  },
  {
   "cell_type": "code",
   "execution_count": null,
   "metadata": {},
   "outputs": [],
   "source": [
    "enz_model_pfba_solution = get_fluxes_detail_in_model(enz_model,RiboNpy_fluxes_outfile,reaction_kcat_MW_file)\n",
    "print(enz_model_pfba_solution.fluxes[obj_reaction])\n"
   ]
  },
  {
   "cell_type": "code",
   "execution_count": null,
   "metadata": {},
   "outputs": [],
   "source": [
    "norm_model = cobra.io.json.load_json_model(json_output_file)\n",
    "norm_model_pfba_solution = cobra.flux_analysis.pfba(norm_model)\n",
    "norm_model_pfba_solution_df = norm_model_pfba_solution.to_frame()\n",
    "norm_model_pfba_solution_df.to_csv(GEM_fluxes_outfile)\n",
    "print(norm_model_pfba_solution_df.fluxes[obj_reaction])\n",
    "\n",
    "#Compare with C13 data\n",
    "c13reaction_2_enz_model_diff = get_diff_reaction_use_c13(c13reaction_file,enz_model_pfba_solution)\n",
    "print (c13reaction_2_enz_model_diff)"
   ]
  },
  {
   "attachments": {},
   "cell_type": "markdown",
   "metadata": {},
   "source": [
    "# 2 Construct Final Ribozyme-Constrained Model"
   ]
  },
  {
   "attachments": {},
   "cell_type": "markdown",
   "metadata": {},
   "source": [
    "Input and output files"
   ]
  },
  {
   "cell_type": "code",
   "execution_count": null,
   "metadata": {},
   "outputs": [],
   "source": [
    "#enyme model needed data\n",
    "#The enzyme mass fraction \n",
    "f = 0.406\n",
    "# The total protein fraction in cell.\n",
    "ptot = 0.56 \n",
    "# The approximated average saturation of enzyme.\n",
    "sigma = 1 #kapp data sigma is 1\n",
    "# Lowerbound  of enzyme concentration constraint. \n",
    "lowerbound = 0   \n",
    "upperbound = round(ptot * f * sigma, 3)\n",
    "\n",
    "model_name = './data/models/iML1515_new.xml' \n",
    "c13reaction_file = './data/C13reaction.csv' \n"
   ]
  },
  {
   "cell_type": "code",
   "execution_count": null,
   "metadata": {},
   "outputs": [],
   "source": [
    "#max kcat for EC number selected from BRENDA and SABIO-RK database(use autoPACMEN)\n",
    "kcat_database_combined_file= './data/Brenda_sabio_combined_select.json'\n",
    "\n",
    "reaction_kcat_MW_file = './analysis/iML1515/modified_reaction_kcat_MW.csv' # for simplification, the reaction_kcat_MW_file name is used from here onwards, even if the path is the modified_reaction_kcat_MW.csv created in step 2\n",
    "fluxes_infile_ori = './analysis/iML1515/RiboNpy_ori_solution_df_pfba.csv'\n",
    "json_model_path = './model/iML1515_irr_enz_ribozyme_constraint.json'\n"
   ]
  },
  {
   "cell_type": "code",
   "execution_count": null,
   "metadata": {},
   "outputs": [],
   "source": [
    "enz_ratio=0.01\n",
    "reaction_enz_usage_file = './analysis/iML1515/RiboNpy_adj_round1_reaction_enz_usage_df.csv'\n",
    "reaction_kcat_MW_round1_outfile = './analysis/iML1515/reaction_change_by_enzuse.csv'\n",
    "json_round1_output_file = './model/iML1515_irr_enz_ribozyme_constraint_adj_round1.json'\n",
    "round1_fluxes_outfile = './analysis/iML1515/RiboNpy_adj_round1_solution_df_pfba.csv'\n"
   ]
  },
  {
   "cell_type": "code",
   "execution_count": null,
   "metadata": {},
   "outputs": [],
   "source": [
    "c13_percentage=0.1\n",
    "json_round2_output_file= './model/iML1515_irr_enz_ribozyme_constraint_adj_round2.json'\n",
    "reaction_kcat_MW_round2_outfile = './analysis/iML1515/reaction_change_by_c13.csv'\n",
    "round2_fluxes_outfile = './analysis/iML1515/RiboNpy_adj_round2_solution_df_pfba.csv'\n",
    "\n",
    "RiboNpy_solution_df_pfba_file='./analysis/iML1515/RiboNpy_solution_df_pfba.csv'"
   ]
  },
  {
   "attachments": {},
   "cell_type": "markdown",
   "metadata": {},
   "source": [
    "Step1: Calibration enzyme kcat according enzyme usage "
   ]
  },
  {
   "cell_type": "code",
   "execution_count": null,
   "metadata": {},
   "outputs": [],
   "source": [
    "enz_model=get_enz_model_use_enz_usage_by_eckcat(enz_ratio,json_model_path,fluxes_infile_ori,reaction_kcat_MW_file,\\\n",
    "                                      reaction_enz_usage_file,kcat_database_combined_file, model_name, \\\n",
    "                                      f, ptot, sigma, lowerbound, upperbound, json_round1_output_file, \\\n",
    "                                      reaction_kcat_MW_round1_outfile)\n",
    "\n",
    "enz_model_pfba_solution = get_fluxes_detail_in_model(enz_model,round1_fluxes_outfile,reaction_kcat_MW_round1_outfile)\n",
    "print(enz_model_pfba_solution.fluxes[obj_reaction])\n",
    "\n",
    "c13reaction_2_enz_model_diff = get_diff_reaction_use_c13(c13reaction_file,enz_model_pfba_solution)\n",
    "print (c13reaction_2_enz_model_diff)"
   ]
  },
  {
   "attachments": {},
   "cell_type": "markdown",
   "metadata": {},
   "source": [
    "Step2: Calibration enzyme kcat according c13 reaction list"
   ]
  },
  {
   "cell_type": "code",
   "execution_count": null,
   "metadata": {},
   "outputs": [],
   "source": [
    "enz_model=get_enz_model_use_c13(reaction_kcat_MW_round1_outfile, json_model_path, c13reaction_file, c13_percentage, \\\n",
    "                                kcat_database_combined_file,model_name, f, ptot, sigma, lowerbound, \\\n",
    "                                upperbound, json_round2_output_file,reaction_kcat_MW_round2_outfile)\n",
    "\n",
    "enz_model_pfba_solution = get_fluxes_detail_in_model(enz_model,round2_fluxes_outfile,reaction_kcat_MW_round2_outfile)\n",
    "print(enz_model_pfba_solution.fluxes[obj_reaction])\n",
    "\n",
    "c13reaction_2_enz_model_diff = get_diff_reaction_use_c13(c13reaction_file,enz_model_pfba_solution)\n",
    "print (c13reaction_2_enz_model_diff)"
   ]
  },
  {
   "attachments": {},
   "cell_type": "markdown",
   "metadata": {},
   "source": [
    "Step3: Solving ribozyme concentration constraint by COBRApy"
   ]
  },
  {
   "cell_type": "code",
   "execution_count": null,
   "metadata": {},
   "outputs": [],
   "source": [
    "#run enzyme constraint metabolic model\n",
    "enz_model=get_enzyme_constraint_model(json_round2_output_file)\n",
    "#enz_model.reactions.get_by_id('EX_glc__D_e_reverse').bounds = (13, 13)\n",
    "pfba_solution = cobra.flux_analysis.pfba(enz_model)\n",
    "pfba_solution_df = pfba_solution.to_frame()\n",
    "pfba_solution_df.to_csv(RiboNpy_solution_df_pfba_file)\n",
    "print(pfba_solution.fluxes[obj_reaction])"
   ]
  },
  {
   "cell_type": "code",
   "execution_count": null,
   "metadata": {},
   "outputs": [],
   "source": [
    "#run genome-scale metabolic model\n",
    "norm_model=cobra.io.json.load_json_model(json_round2_output_file)\n",
    "#norm_model.reactions.get_by_id('EX_glc__D_e_reverse').bounds = (13, 13)\n",
    "pfba_solution = cobra.flux_analysis.pfba(norm_model)\n",
    "pfba_solution_df = pfba_solution.to_frame()\n",
    "#pfba_solution_df.to_csv('./analysis/iML1515/Orimodel_solution_df_pfba.csv')\n",
    "print(pfba_solution.fluxes[obj_reaction])"
   ]
  },
  {
   "attachments": {},
   "cell_type": "markdown",
   "metadata": {},
   "source": [
    "# 4: all-in-one enzyme-constraint function"
   ]
  },
  {
   "cell_type": "code",
   "execution_count": null,
   "metadata": {},
   "outputs": [],
   "source": [
    "model_name = './data/models/iML1515_new.xml' \n",
    "obj_reaction = 'BIOMASS_Ec_iML1515_core_75p37M'\n",
    "\n",
    "sequence_length = 79\n",
    "nucleotide_proportion = [0.25,0.25,0.25,0.25]\n",
    "random_proportion = False\n",
    "new_ribozyme = True\n",
    "\n",
    "reaction_fraction = 0\n",
    "selection_type = 'random'\n",
    "new_reaction_selection = True\n",
    "\n",
    "biosynth_costs = False\n",
    "biosynth_costs_penalty = 1.320773\n",
    "\n",
    "ef_factor = 0.1\n",
    "\n",
    "obj_solution = get_ribozyme_constraint_model_pfba_obj_solution(model_name, obj_reaction, sequence_length, nucleotide_proportion, random_proportion, new_ribozyme, reaction_fraction, selection_type, new_reaction_selection, biosynth_costs, biosynth_costs_penalty, ef_factor)"
   ]
  }
 ],
 "metadata": {
  "kernelspec": {
   "display_name": "Python 3",
   "language": "python",
   "name": "python3"
  },
  "language_info": {
   "codemirror_mode": {
    "name": "ipython",
    "version": 3
   },
   "file_extension": ".py",
   "mimetype": "text/x-python",
   "name": "python",
   "nbconvert_exporter": "python",
   "pygments_lexer": "ipython3",
   "version": "3.10.8"
  },
  "orig_nbformat": 4,
  "vscode": {
   "interpreter": {
    "hash": "162805d861223990fbee0972ed12f9be628b31f8b6842b220d207744051d74d5"
   }
  }
 },
 "nbformat": 4,
 "nbformat_minor": 2
}
