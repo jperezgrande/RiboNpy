{
 "cells": [
  {
   "attachments": {},
   "cell_type": "markdown",
   "metadata": {},
   "source": [
    "# **Constraining the toy model using the RiboNpy workflow**"
   ]
  },
  {
   "attachments": {},
   "cell_type": "markdown",
   "metadata": {},
   "source": [
    "# Import related packages"
   ]
  },
  {
   "cell_type": "code",
   "execution_count": 218,
   "metadata": {},
   "outputs": [],
   "source": [
    "import cobra\n",
    "import sys\n",
    "import tempfile\n",
    "import pandas as pd\n",
    "import numpy as np\n",
    "sys.path.append(r'./code/')\n",
    "from cobra.io import load_json_model, write_sbml_model, validate_sbml_model\n",
    "from pprint import pprint\n",
    "from libsbml import *\n",
    "from cobra import Model, Metabolite, Reaction\n",
    "from ribonpy_core_functions import *\n",
    "\n",
    "import json\n",
    "import math\n",
    "import re\n",
    "import statistics\n",
    "import os\n",
    "import shutil\n",
    "import random\n",
    "from cobra.core import Reaction\n",
    "from cobra.io.dict import model_to_dict\n",
    "from cobra.util.solver import set_objective\n",
    "from xml.dom import minidom\n",
    "from optlang.symbolics import Zero, add\n",
    "from cobra.flux_analysis import flux_variability_analysis"
   ]
  },
  {
   "attachments": {},
   "cell_type": "markdown",
   "metadata": {},
   "source": [
    "# 1 Construct Raw Ribozyme-Constrained Model"
   ]
  },
  {
   "attachments": {},
   "cell_type": "markdown",
   "metadata": {},
   "source": [
    "Input and output files"
   ]
  },
  {
   "cell_type": "code",
   "execution_count": 219,
   "metadata": {},
   "outputs": [],
   "source": [
    "#input files\n",
    "# The genome-scale metabolic model for constructing the ribozyme-constrained model\n",
    "model_name = './data/models/toy_model.xml'\n",
    "obj_reaction = 'DM_e4p_c'\n",
    "\n",
    "# Reaction-kcat file.\n",
    "# eg. AADDGT,64.41327046 #s-1\n",
    "reaction_kcat_file = './data/nc_machine_learning_kapp.json'\n",
    "select_key = 'kappmax_ensemble_model_s-1'\n",
    "\n",
    "# Gene-abundance file organized from PAXdb\n",
    "# eg. b0789,1.1\n",
    "gene_abundance_file = \"./data/gene_abundance-toy.csv\"\n",
    "\n",
    "# Gene-molecular_weight file organized from EcoCyc\n",
    "# eg. b3500,48.77251\n",
    "gene_molecular_weight_file = \"./data/gene_molecular_weight-toy.csv\"\n",
    "\n",
    "reaction_gene_subunit_file = \"./data/reaction_gene_subunit-toy.csv\"\n",
    "c13reaction_file = './data/C13reaction.csv' \n",
    "\n",
    "# Input ribozyme files\n",
    "nucleotide_MW_file = \"./data/nucleotide_MW.csv\"\n",
    "sequence_motifs_file = None\n",
    "reactions_subset_file = None"
   ]
  },
  {
   "cell_type": "code",
   "execution_count": 220,
   "metadata": {},
   "outputs": [],
   "source": [
    "# Output files\n",
    "gene_outfile = \"./analysis/toy/genes.csv\"\n",
    "gpr_outfile = \"./analysis/toy/all_reaction_GPR.csv\"\n",
    "reaction_gene_subunit_MW_file = \"./analysis/toy/reaction_gene_subunit_MW.csv\"\n",
    "reaction_MW_file = \"./analysis/toy/reaction_MW.csv\"\n",
    "reaction_kcat_MW_file = \"./analysis/toy/modified_reaction_kcat_MW.csv\"\n",
    "json_output_file=\"./model/toy_model_irr_enz_ribozyme_constraint.json\"\n",
    "RiboNpy_fluxes_outfile = './analysis/toy/RiboNpy_ori_solution_df_pfba.csv'\n",
    "GEM_fluxes_outfile = './analysis/toy/Orimodel_solution_df_pfba.csv'\n",
    "\n",
    "# Output ribozyme files\n",
    "ribozyme_data_file = './analysis/toy/ribozyme_data.csv'\n",
    "modified_reaction_MW_file = './analysis/toy/modified_reaction_MW.csv'\n",
    "modified_biosynthesis_reaction_MW_file = \"./analysis/toy/modified_biosynthesis_reaction_MW.csv\"\n",
    "modified_reaction_kcat_MW_file = \"./analysis/toy/modified_reaction_kcat_MW.csv\""
   ]
  },
  {
   "attachments": {},
   "cell_type": "markdown",
   "metadata": {},
   "source": [
    "Step1: preprocessing of the model"
   ]
  },
  {
   "cell_type": "code",
   "execution_count": 223,
   "metadata": {},
   "outputs": [
    {
     "data": {
      "text/html": [
       "\n",
       "        <table>\n",
       "            <tr>\n",
       "                <td><strong>Name</strong></td>\n",
       "                <td>toy_model</td>\n",
       "            </tr><tr>\n",
       "                <td><strong>Memory address</strong></td>\n",
       "                <td>0x02430e79ec80</td>\n",
       "            </tr><tr>\n",
       "                <td><strong>Number of metabolites</strong></td>\n",
       "                <td>26</td>\n",
       "            </tr><tr>\n",
       "                <td><strong>Number of reactions</strong></td>\n",
       "                <td>63</td>\n",
       "            </tr><tr>\n",
       "                <td><strong>Number of groups</strong></td>\n",
       "                <td>0</td>\n",
       "            </tr><tr>\n",
       "                <td><strong>Objective expression</strong></td>\n",
       "                <td>1.0*DM_e4p_c - 1.0*DM_e4p_c_reverse_1a776</td>\n",
       "            </tr><tr>\n",
       "                <td><strong>Compartments</strong></td>\n",
       "                <td>e, c</td>\n",
       "            </tr>\n",
       "          </table>"
      ],
      "text/plain": [
       "<Model toy_model at 0x2430e79ec80>"
      ]
     },
     "execution_count": 223,
     "metadata": {},
     "output_type": "execute_result"
    }
   ],
   "source": [
    "model = cobra.io.read_sbml_model(model_name) \n",
    "convert_to_irreversible(model)\n",
    "#split isoenzyme\n",
    "model = isoenzyme_split(model)\n",
    "model"
   ]
  },
  {
   "attachments": {},
   "cell_type": "markdown",
   "metadata": {},
   "source": [
    "Step2: Retrieving and calculating proteozyme and ribozyme kinetics and proteomics data"
   ]
  },
  {
   "cell_type": "code",
   "execution_count": 225,
   "metadata": {},
   "outputs": [],
   "source": [
    "[genes,gpr_relationship] = get_genes_and_gpr(model,gene_outfile,gpr_outfile)"
   ]
  },
  {
   "cell_type": "code",
   "execution_count": 227,
   "metadata": {},
   "outputs": [
    {
     "data": {
      "text/html": [
       "<div>\n",
       "<style scoped>\n",
       "    .dataframe tbody tr th:only-of-type {\n",
       "        vertical-align: middle;\n",
       "    }\n",
       "\n",
       "    .dataframe tbody tr th {\n",
       "        vertical-align: top;\n",
       "    }\n",
       "\n",
       "    .dataframe thead th {\n",
       "        text-align: right;\n",
       "    }\n",
       "</style>\n",
       "<table border=\"1\" class=\"dataframe\">\n",
       "  <thead>\n",
       "    <tr style=\"text-align: right;\">\n",
       "      <th></th>\n",
       "      <th>name</th>\n",
       "      <th>gene_reaction_rule</th>\n",
       "      <th>subunit_num</th>\n",
       "      <th>subunit_mw</th>\n",
       "    </tr>\n",
       "  </thead>\n",
       "  <tbody>\n",
       "    <tr>\n",
       "      <th>FBA_num1</th>\n",
       "      <td>Fructose-bisphosphate aldolase</td>\n",
       "      <td>b2925</td>\n",
       "      <td>2</td>\n",
       "      <td>39.14726</td>\n",
       "    </tr>\n",
       "    <tr>\n",
       "      <th>FBA_num2</th>\n",
       "      <td>Fructose-bisphosphate aldolase</td>\n",
       "      <td>b2097</td>\n",
       "      <td>10</td>\n",
       "      <td>38.10919</td>\n",
       "    </tr>\n",
       "    <tr>\n",
       "      <th>PGI</th>\n",
       "      <td>Glucose-6-phosphate isomerase</td>\n",
       "      <td>b4025</td>\n",
       "      <td>2</td>\n",
       "      <td>61.52977</td>\n",
       "    </tr>\n",
       "    <tr>\n",
       "      <th>PGL</th>\n",
       "      <td>6-phosphogluconolactonase</td>\n",
       "      <td>b0767</td>\n",
       "      <td>1</td>\n",
       "      <td>36.30764</td>\n",
       "    </tr>\n",
       "    <tr>\n",
       "      <th>RPE</th>\n",
       "      <td>Ribulose 5-phosphate 3-epimerase</td>\n",
       "      <td>b3386</td>\n",
       "      <td>1</td>\n",
       "      <td>24.55425</td>\n",
       "    </tr>\n",
       "  </tbody>\n",
       "</table>\n",
       "</div>"
      ],
      "text/plain": [
       "                                      name gene_reaction_rule subunit_num  \\\n",
       "FBA_num1    Fructose-bisphosphate aldolase              b2925           2   \n",
       "FBA_num2    Fructose-bisphosphate aldolase              b2097         10    \n",
       "PGI          Glucose-6-phosphate isomerase              b4025           2   \n",
       "PGL              6-phosphogluconolactonase              b0767           1   \n",
       "RPE       Ribulose 5-phosphate 3-epimerase              b3386           1   \n",
       "\n",
       "         subunit_mw  \n",
       "FBA_num1   39.14726  \n",
       "FBA_num2   38.10919  \n",
       "PGI        61.52977  \n",
       "PGL        36.30764  \n",
       "RPE        24.55425  "
      ]
     },
     "execution_count": 227,
     "metadata": {},
     "output_type": "execute_result"
    }
   ],
   "source": [
    "reaction_gene_subunit_MW = get_reaction_gene_subunit_MW(reaction_gene_subunit_file,gene_molecular_weight_file,reaction_gene_subunit_MW_file)\n",
    "reaction_gene_subunit_MW.head(5)"
   ]
  },
  {
   "cell_type": "code",
   "execution_count": 228,
   "metadata": {},
   "outputs": [
    {
     "data": {
      "text/html": [
       "<div>\n",
       "<style scoped>\n",
       "    .dataframe tbody tr th:only-of-type {\n",
       "        vertical-align: middle;\n",
       "    }\n",
       "\n",
       "    .dataframe tbody tr th {\n",
       "        vertical-align: top;\n",
       "    }\n",
       "\n",
       "    .dataframe thead th {\n",
       "        text-align: right;\n",
       "    }\n",
       "</style>\n",
       "<table border=\"1\" class=\"dataframe\">\n",
       "  <thead>\n",
       "    <tr style=\"text-align: right;\">\n",
       "      <th></th>\n",
       "      <th>MW</th>\n",
       "      <th>length</th>\n",
       "      <th>sequence</th>\n",
       "      <th>A</th>\n",
       "      <th>G</th>\n",
       "      <th>C</th>\n",
       "      <th>U</th>\n",
       "    </tr>\n",
       "  </thead>\n",
       "  <tbody>\n",
       "    <tr>\n",
       "      <th>0</th>\n",
       "      <td>36.551488</td>\n",
       "      <td>79</td>\n",
       "      <td>GCAUAGAAAGGAUAGUCCCUGAUGGAAUGUCCAGGGCCCCCACGGA...</td>\n",
       "      <td>24.05</td>\n",
       "      <td>24.05</td>\n",
       "      <td>24.05</td>\n",
       "      <td>24.05</td>\n",
       "    </tr>\n",
       "  </tbody>\n",
       "</table>\n",
       "</div>"
      ],
      "text/plain": [
       "          MW  length                                           sequence  \\\n",
       "0  36.551488      79  GCAUAGAAAGGAUAGUCCCUGAUGGAAUGUCCAGGGCCCCCACGGA...   \n",
       "\n",
       "       A      G      C      U  \n",
       "0  24.05  24.05  24.05  24.05  "
      ]
     },
     "execution_count": 228,
     "metadata": {},
     "output_type": "execute_result"
    }
   ],
   "source": [
    "sequence_length = 79\n",
    "nucleotide_proportion = [0.25,0.25,0.25,0.25]\n",
    "new_ribozyme = True\n",
    "random_proportion = False\n",
    "\n",
    "ribozyme_MW = calculate_ribozyme_MW(nucleotide_MW_file, ribozyme_data_file, sequence_length, nucleotide_proportion, random_proportion, sequence_motifs_file, new_ribozyme)\n",
    "ribozyme_MW.head(5)"
   ]
  },
  {
   "cell_type": "code",
   "execution_count": 230,
   "metadata": {},
   "outputs": [
    {
     "data": {
      "text/html": [
       "<div>\n",
       "<style scoped>\n",
       "    .dataframe tbody tr th:only-of-type {\n",
       "        vertical-align: middle;\n",
       "    }\n",
       "\n",
       "    .dataframe tbody tr th {\n",
       "        vertical-align: top;\n",
       "    }\n",
       "\n",
       "    .dataframe thead th {\n",
       "        text-align: right;\n",
       "    }\n",
       "</style>\n",
       "<table border=\"1\" class=\"dataframe\">\n",
       "  <thead>\n",
       "    <tr style=\"text-align: right;\">\n",
       "      <th></th>\n",
       "      <th>MW</th>\n",
       "    </tr>\n",
       "  </thead>\n",
       "  <tbody>\n",
       "    <tr>\n",
       "      <th>FBA_num1</th>\n",
       "      <td>78.2945</td>\n",
       "    </tr>\n",
       "    <tr>\n",
       "      <th>FBA_num2</th>\n",
       "      <td>381.0919</td>\n",
       "    </tr>\n",
       "    <tr>\n",
       "      <th>PGI</th>\n",
       "      <td>123.0595</td>\n",
       "    </tr>\n",
       "    <tr>\n",
       "      <th>PGL</th>\n",
       "      <td>36.3076</td>\n",
       "    </tr>\n",
       "    <tr>\n",
       "      <th>RPE</th>\n",
       "      <td>24.5542</td>\n",
       "    </tr>\n",
       "  </tbody>\n",
       "</table>\n",
       "</div>"
      ],
      "text/plain": [
       "                MW\n",
       "FBA_num1   78.2945\n",
       "FBA_num2  381.0919\n",
       "PGI       123.0595\n",
       "PGL        36.3076\n",
       "RPE        24.5542"
      ]
     },
     "execution_count": 230,
     "metadata": {},
     "output_type": "execute_result"
    }
   ],
   "source": [
    "reaction_MW = calculate_reaction_mw(reaction_gene_subunit_MW_file,reaction_MW_file)\n",
    "reaction_MW.head(5)"
   ]
  },
  {
   "cell_type": "code",
   "execution_count": 231,
   "metadata": {},
   "outputs": [
    {
     "name": "stdout",
     "output_type": "stream",
     "text": [
      "33 reactions (100.0%) have been modified out of 33 total reactions in the model.\n"
     ]
    },
    {
     "data": {
      "text/html": [
       "<div>\n",
       "<style scoped>\n",
       "    .dataframe tbody tr th:only-of-type {\n",
       "        vertical-align: middle;\n",
       "    }\n",
       "\n",
       "    .dataframe tbody tr th {\n",
       "        vertical-align: top;\n",
       "    }\n",
       "\n",
       "    .dataframe thead th {\n",
       "        text-align: right;\n",
       "    }\n",
       "</style>\n",
       "<table border=\"1\" class=\"dataframe\">\n",
       "  <thead>\n",
       "    <tr style=\"text-align: right;\">\n",
       "      <th></th>\n",
       "      <th>MW</th>\n",
       "      <th>type</th>\n",
       "    </tr>\n",
       "  </thead>\n",
       "  <tbody>\n",
       "    <tr>\n",
       "      <th>FBA_num1</th>\n",
       "      <td>36.551488</td>\n",
       "      <td>ribozyme</td>\n",
       "    </tr>\n",
       "    <tr>\n",
       "      <th>FBA_num2</th>\n",
       "      <td>36.551488</td>\n",
       "      <td>ribozyme</td>\n",
       "    </tr>\n",
       "    <tr>\n",
       "      <th>PGI</th>\n",
       "      <td>36.551488</td>\n",
       "      <td>ribozyme</td>\n",
       "    </tr>\n",
       "    <tr>\n",
       "      <th>PGL</th>\n",
       "      <td>36.551488</td>\n",
       "      <td>ribozyme</td>\n",
       "    </tr>\n",
       "    <tr>\n",
       "      <th>RPE</th>\n",
       "      <td>36.551488</td>\n",
       "      <td>ribozyme</td>\n",
       "    </tr>\n",
       "  </tbody>\n",
       "</table>\n",
       "</div>"
      ],
      "text/plain": [
       "                 MW      type\n",
       "FBA_num1  36.551488  ribozyme\n",
       "FBA_num2  36.551488  ribozyme\n",
       "PGI       36.551488  ribozyme\n",
       "PGL       36.551488  ribozyme\n",
       "RPE       36.551488  ribozyme"
      ]
     },
     "execution_count": 231,
     "metadata": {},
     "output_type": "execute_result"
    }
   ],
   "source": [
    "new_reaction_selection = True\n",
    "reaction_fraction = 1\n",
    "selection_type = 'random'\n",
    "specific_reactions = None\n",
    "\n",
    "modified_reaction_MW, fraction_ribozyme_reactions = modify_reaction_MW(reaction_MW_file, modified_reaction_MW_file, reaction_fraction, ribozyme_data_file, selection_type, reactions_subset_file, specific_reactions, new_reaction_selection)\n",
    "modified_reaction_MW.head(5)"
   ]
  },
  {
   "cell_type": "code",
   "execution_count": 232,
   "metadata": {},
   "outputs": [
    {
     "data": {
      "text/html": [
       "<div>\n",
       "<style scoped>\n",
       "    .dataframe tbody tr th:only-of-type {\n",
       "        vertical-align: middle;\n",
       "    }\n",
       "\n",
       "    .dataframe tbody tr th {\n",
       "        vertical-align: top;\n",
       "    }\n",
       "\n",
       "    .dataframe thead th {\n",
       "        text-align: right;\n",
       "    }\n",
       "</style>\n",
       "<table border=\"1\" class=\"dataframe\">\n",
       "  <thead>\n",
       "    <tr style=\"text-align: right;\">\n",
       "      <th></th>\n",
       "      <th>MW</th>\n",
       "      <th>type</th>\n",
       "    </tr>\n",
       "  </thead>\n",
       "  <tbody>\n",
       "    <tr>\n",
       "      <th>FBA_num1</th>\n",
       "      <td>36.551488</td>\n",
       "      <td>ribozyme</td>\n",
       "    </tr>\n",
       "    <tr>\n",
       "      <th>FBA_num2</th>\n",
       "      <td>36.551488</td>\n",
       "      <td>ribozyme</td>\n",
       "    </tr>\n",
       "    <tr>\n",
       "      <th>PGI</th>\n",
       "      <td>36.551488</td>\n",
       "      <td>ribozyme</td>\n",
       "    </tr>\n",
       "    <tr>\n",
       "      <th>PGL</th>\n",
       "      <td>36.551488</td>\n",
       "      <td>ribozyme</td>\n",
       "    </tr>\n",
       "    <tr>\n",
       "      <th>RPE</th>\n",
       "      <td>36.551488</td>\n",
       "      <td>ribozyme</td>\n",
       "    </tr>\n",
       "  </tbody>\n",
       "</table>\n",
       "</div>"
      ],
      "text/plain": [
       "                 MW      type\n",
       "FBA_num1  36.551488  ribozyme\n",
       "FBA_num2  36.551488  ribozyme\n",
       "PGI       36.551488  ribozyme\n",
       "PGL       36.551488  ribozyme\n",
       "RPE       36.551488  ribozyme"
      ]
     },
     "execution_count": 232,
     "metadata": {},
     "output_type": "execute_result"
    }
   ],
   "source": [
    "biosynth_costs_penalty = 1.320773\n",
    "biosynth_costs = True\n",
    "\n",
    "reaction_biosynthesis_costs = modify_reaction_biosynthesis_MW(modified_reaction_MW_file, modified_biosynthesis_reaction_MW_file, biosynth_costs_penalty, biosynth_costs)\n",
    "reaction_biosynthesis_costs.head(5)"
   ]
  },
  {
   "cell_type": "code",
   "execution_count": 233,
   "metadata": {},
   "outputs": [
    {
     "data": {
      "text/html": [
       "<div>\n",
       "<style scoped>\n",
       "    .dataframe tbody tr th:only-of-type {\n",
       "        vertical-align: middle;\n",
       "    }\n",
       "\n",
       "    .dataframe tbody tr th {\n",
       "        vertical-align: top;\n",
       "    }\n",
       "\n",
       "    .dataframe thead th {\n",
       "        text-align: right;\n",
       "    }\n",
       "</style>\n",
       "<table border=\"1\" class=\"dataframe\">\n",
       "  <thead>\n",
       "    <tr style=\"text-align: right;\">\n",
       "      <th></th>\n",
       "      <th>MW</th>\n",
       "      <th>kcat</th>\n",
       "      <th>type</th>\n",
       "      <th>kcat_MW</th>\n",
       "    </tr>\n",
       "  </thead>\n",
       "  <tbody>\n",
       "    <tr>\n",
       "      <th>FBA_num1</th>\n",
       "      <td>36.551488</td>\n",
       "      <td>3744.593179</td>\n",
       "      <td>ribozyme</td>\n",
       "      <td>102.447079</td>\n",
       "    </tr>\n",
       "    <tr>\n",
       "      <th>FBA_num2</th>\n",
       "      <td>36.551488</td>\n",
       "      <td>3744.593179</td>\n",
       "      <td>ribozyme</td>\n",
       "      <td>102.447079</td>\n",
       "    </tr>\n",
       "    <tr>\n",
       "      <th>PGI</th>\n",
       "      <td>36.551488</td>\n",
       "      <td>25560.000000</td>\n",
       "      <td>ribozyme</td>\n",
       "      <td>699.287533</td>\n",
       "    </tr>\n",
       "    <tr>\n",
       "      <th>PGL</th>\n",
       "      <td>36.551488</td>\n",
       "      <td>66240.000000</td>\n",
       "      <td>ribozyme</td>\n",
       "      <td>1812.238115</td>\n",
       "    </tr>\n",
       "    <tr>\n",
       "      <th>RPE</th>\n",
       "      <td>36.551488</td>\n",
       "      <td>19853.318761</td>\n",
       "      <td>ribozyme</td>\n",
       "      <td>543.160341</td>\n",
       "    </tr>\n",
       "  </tbody>\n",
       "</table>\n",
       "</div>"
      ],
      "text/plain": [
       "                 MW          kcat      type      kcat_MW\n",
       "FBA_num1  36.551488   3744.593179  ribozyme   102.447079\n",
       "FBA_num2  36.551488   3744.593179  ribozyme   102.447079\n",
       "PGI       36.551488  25560.000000  ribozyme   699.287533\n",
       "PGL       36.551488  66240.000000  ribozyme  1812.238115\n",
       "RPE       36.551488  19853.318761  ribozyme   543.160341"
      ]
     },
     "execution_count": 233,
     "metadata": {},
     "output_type": "execute_result"
    }
   ],
   "source": [
    "ef_factor = 0.1\n",
    "\n",
    "modify_reaction_kcat_mw = calculate_modified_reaction_kcat_mw(reaction_kcat_file, modified_biosynthesis_reaction_MW_file, modified_reaction_kcat_MW_file, select_key, ef_factor)\n",
    "modify_reaction_kcat_mw.head(5)"
   ]
  },
  {
   "cell_type": "code",
   "execution_count": 235,
   "metadata": {},
   "outputs": [
    {
     "name": "stdout",
     "output_type": "stream",
     "text": [
      "Average kcat: 20542.42\n",
      "Average MW: 36.55\n",
      "Average kcat_MW: 562.01\n"
     ]
    }
   ],
   "source": [
    "# calculate average MW, average kcat and average kcat_MW\n",
    "\n",
    "# calculate average for each column\n",
    "kcat_avg = modify_reaction_kcat_mw['kcat'].mean()\n",
    "MW_avg = modify_reaction_kcat_mw['MW'].mean()\n",
    "kcat_MW_avg = modify_reaction_kcat_mw['kcat_MW'].mean()\n",
    "\n",
    "# print the results\n",
    "print(f\"Average kcat: {kcat_avg:.2f}\")\n",
    "print(f\"Average MW: {MW_avg:.2f}\")\n",
    "print(f\"Average kcat_MW: {kcat_MW_avg:.2f}\")\n",
    "\n",
    "# print(kcat_avg/MW_avg)"
   ]
  },
  {
   "attachments": {},
   "cell_type": "markdown",
   "metadata": {},
   "source": [
    "Step3: Save ribozyme concentration constraint model as json file."
   ]
  },
  {
   "cell_type": "code",
   "execution_count": 236,
   "metadata": {},
   "outputs": [
    {
     "name": "stdout",
     "output_type": "stream",
     "text": [
      "0.227\n"
     ]
    }
   ],
   "source": [
    "#The enzyme mass fraction \n",
    "f = 0.406\n",
    "# The total protein fraction in cell.\n",
    "ptot = 0.56 \n",
    "# The approximated average saturation of enzyme.\n",
    "sigma = 1 #kapp data sigma is 1\n",
    "# Lowerbound  of enzyme concentration constraint. \n",
    "lowerbound = 0   \n",
    "upperbound = round(ptot * f * sigma, 3)\n",
    "print(upperbound)"
   ]
  },
  {
   "cell_type": "code",
   "execution_count": 237,
   "metadata": {},
   "outputs": [],
   "source": [
    "#create enzyme concentration constraint model\n",
    "trans_model2enz_json_model_split_isoenzyme(model_name, modified_reaction_kcat_MW_file, f, ptot, sigma, lowerbound, upperbound, json_output_file)\n",
    "\n",
    "enz_model=get_enzyme_constraint_model(json_output_file)"
   ]
  },
  {
   "cell_type": "code",
   "execution_count": 238,
   "metadata": {},
   "outputs": [
    {
     "name": "stdout",
     "output_type": "stream",
     "text": [
      "10.0\n"
     ]
    }
   ],
   "source": [
    "enz_model_pfba_solution = get_fluxes_detail_in_model(enz_model,RiboNpy_fluxes_outfile,reaction_kcat_MW_file)\n",
    "print(enz_model_pfba_solution.fluxes[obj_reaction])\n"
   ]
  },
  {
   "cell_type": "code",
   "execution_count": 239,
   "metadata": {},
   "outputs": [
    {
     "name": "stdout",
     "output_type": "stream",
     "text": [
      "10.0\n",
      "['FUM', 'PGM_reverse', 'SUCDi', 'AKGDH', 'PGK_reverse', 'ICDHyr', 'PSP_L', 'ENO', 'ACONTa', 'ACKr_reverse', 'GND', 'PYK', 'ME2', 'ACONTb', 'PGCD', 'TPI', 'MDH', 'G6PDH2r', 'ICL', 'SUCOAS_reverse', 'PGL', 'PDH', 'GAPD', 'MALS', 'PFL', 'PTAr', 'RPE', 'CS', 'GHMT2r', 'TKT2', 'PPC', 'PSERT']\n"
     ]
    }
   ],
   "source": [
    "norm_model = cobra.io.json.load_json_model(json_output_file)\n",
    "norm_model_pfba_solution = cobra.flux_analysis.pfba(norm_model)\n",
    "norm_model_pfba_solution_df = norm_model_pfba_solution.to_frame()\n",
    "norm_model_pfba_solution_df.to_csv(GEM_fluxes_outfile)\n",
    "print(norm_model_pfba_solution_df.fluxes[obj_reaction])\n",
    "\n",
    "#Compare with C13 data\n",
    "c13reaction_2_enz_model_diff = get_diff_reaction_use_c13(c13reaction_file,enz_model_pfba_solution)\n",
    "print (c13reaction_2_enz_model_diff)"
   ]
  },
  {
   "attachments": {},
   "cell_type": "markdown",
   "metadata": {},
   "source": [
    "# 2 Construct Final Ribozyme-Constrained Model"
   ]
  },
  {
   "attachments": {},
   "cell_type": "markdown",
   "metadata": {},
   "source": [
    "Input and output files"
   ]
  },
  {
   "cell_type": "code",
   "execution_count": 240,
   "metadata": {},
   "outputs": [],
   "source": [
    "#enyme model needed data\n",
    "#The enzyme mass fraction \n",
    "f = 0.406\n",
    "# The total protein fraction in cell.\n",
    "ptot = 0.56 \n",
    "# The approximated average saturation of enzyme.\n",
    "sigma = 1 #kapp data sigma is 1\n",
    "# Lowerbound  of enzyme concentration constraint. \n",
    "lowerbound = 0   \n",
    "upperbound = round(ptot * f * sigma, 3)\n",
    "\n",
    "model_name = './data/models/toy_model.xml' \n",
    "c13reaction_file = './data/C13reaction.csv' \n"
   ]
  },
  {
   "cell_type": "code",
   "execution_count": 241,
   "metadata": {},
   "outputs": [],
   "source": [
    "#max kcat for EC number selected from BRENDA and SABIO-RK database(use autoPACMEN)\n",
    "kcat_database_combined_file= './data/Brenda_sabio_combined_select.json'\n",
    "\n",
    "reaction_kcat_MW_file = './analysis/toy/modified_reaction_kcat_MW.csv' # for simplification, the reaction_kcat_MW_file name is used from here onwards, even if the path is the modified_reaction_kcat_MW.csv created in step 2\n",
    "fluxes_infile_ori = './analysis/toy/RiboNpy_ori_solution_df_pfba.csv'\n",
    "json_model_path = './model/toy_model_irr_enz_ribozyme_constraint.json'\n"
   ]
  },
  {
   "cell_type": "code",
   "execution_count": 242,
   "metadata": {},
   "outputs": [],
   "source": [
    "enz_ratio=0.01\n",
    "reaction_enz_usage_file = './analysis/toy/RiboNpy_adj_round1_reaction_enz_usage_df.csv'\n",
    "reaction_kcat_MW_round1_outfile = './analysis/toy/reaction_change_by_enzuse.csv'\n",
    "json_round1_output_file = './model/toy_model_irr_enz_ribozyme_constraint_adj_round1.json'\n",
    "round1_fluxes_outfile = './analysis/toy/RiboNpy_adj_round1_solution_df_pfba.csv'\n"
   ]
  },
  {
   "cell_type": "code",
   "execution_count": 243,
   "metadata": {},
   "outputs": [],
   "source": [
    "c13_percentage=0.1\n",
    "json_round2_output_file= './model/toy_model_irr_enz_ribozyme_constraint_adj_round2.json'\n",
    "reaction_kcat_MW_round2_outfile = './analysis/toy/reaction_change_by_c13.csv'\n",
    "round2_fluxes_outfile = './analysis/toy/RiboNpy_adj_round2_solution_df_pfba.csv'\n",
    "\n",
    "RiboNpy_solution_df_pfba_file='./analysis/toy/RiboNpy_solution_df_pfba.csv'"
   ]
  },
  {
   "attachments": {},
   "cell_type": "markdown",
   "metadata": {},
   "source": [
    "Step1: Calibration enzyme kcat according enzyme usage "
   ]
  },
  {
   "cell_type": "code",
   "execution_count": 244,
   "metadata": {},
   "outputs": [
    {
     "name": "stdout",
     "output_type": "stream",
     "text": [
      "need changing proteozyme reaction: \n",
      "[]\n",
      "changed proteozyme reaction: \n",
      "[]\n",
      "10.0\n",
      "['FUM', 'PGM_reverse', 'SUCDi', 'AKGDH', 'PGK_reverse', 'ICDHyr', 'PSP_L', 'ENO', 'ACONTa', 'ACKr_reverse', 'GND', 'PYK', 'ME2', 'ACONTb', 'PGCD', 'TPI', 'MDH', 'G6PDH2r', 'ICL', 'SUCOAS_reverse', 'PGL', 'PDH', 'GAPD', 'MALS', 'PFL', 'PTAr', 'RPE', 'CS', 'GHMT2r', 'TKT2', 'PPC', 'PSERT']\n"
     ]
    }
   ],
   "source": [
    "enz_model=get_enz_model_use_enz_usage_by_eckcat(enz_ratio,json_model_path,fluxes_infile_ori,reaction_kcat_MW_file,\\\n",
    "                                      reaction_enz_usage_file,kcat_database_combined_file, model_name, \\\n",
    "                                      f, ptot, sigma, lowerbound, upperbound, json_round1_output_file, \\\n",
    "                                      reaction_kcat_MW_round1_outfile)\n",
    "\n",
    "enz_model_pfba_solution = get_fluxes_detail_in_model(enz_model,round1_fluxes_outfile,reaction_kcat_MW_round1_outfile)\n",
    "print(enz_model_pfba_solution.fluxes[obj_reaction])\n",
    "\n",
    "c13reaction_2_enz_model_diff = get_diff_reaction_use_c13(c13reaction_file,enz_model_pfba_solution)\n",
    "print (c13reaction_2_enz_model_diff)"
   ]
  },
  {
   "attachments": {},
   "cell_type": "markdown",
   "metadata": {},
   "source": [
    "Step2: Calibration enzyme kcat according c13 reaction list"
   ]
  },
  {
   "cell_type": "code",
   "execution_count": 245,
   "metadata": {},
   "outputs": [
    {
     "name": "stdout",
     "output_type": "stream",
     "text": [
      "need changing proteozyme reaction: \n",
      "[]\n",
      "changed proteozyme reaction: \n",
      "[]\n",
      "10.0\n",
      "['FUM', 'PGM_reverse', 'SUCDi', 'AKGDH', 'PGK_reverse', 'ICDHyr', 'PSP_L', 'ENO', 'ACONTa', 'ACKr_reverse', 'GND', 'PYK', 'ME2', 'ACONTb', 'PGCD', 'TPI', 'MDH', 'G6PDH2r', 'ICL', 'SUCOAS_reverse', 'PGL', 'PDH', 'GAPD', 'MALS', 'PFL', 'PTAr', 'RPE', 'CS', 'GHMT2r', 'TKT2', 'PPC', 'PSERT']\n"
     ]
    }
   ],
   "source": [
    "enz_model=get_enz_model_use_c13(reaction_kcat_MW_round1_outfile, json_model_path, c13reaction_file, c13_percentage, \\\n",
    "                                kcat_database_combined_file,model_name, f, ptot, sigma, lowerbound, \\\n",
    "                                upperbound, json_round2_output_file,reaction_kcat_MW_round2_outfile)\n",
    "\n",
    "enz_model_pfba_solution = get_fluxes_detail_in_model(enz_model,round2_fluxes_outfile,reaction_kcat_MW_round2_outfile)\n",
    "print(enz_model_pfba_solution.fluxes[obj_reaction])\n",
    "\n",
    "c13reaction_2_enz_model_diff = get_diff_reaction_use_c13(c13reaction_file,enz_model_pfba_solution)\n",
    "print (c13reaction_2_enz_model_diff)"
   ]
  },
  {
   "attachments": {},
   "cell_type": "markdown",
   "metadata": {},
   "source": [
    "Step3: Solving ribozyme concentration constraint by COBRApy"
   ]
  },
  {
   "cell_type": "code",
   "execution_count": 246,
   "metadata": {},
   "outputs": [
    {
     "name": "stdout",
     "output_type": "stream",
     "text": [
      "10.0\n"
     ]
    }
   ],
   "source": [
    "#run enzyme constraint metabolic model\n",
    "enz_model=get_enzyme_constraint_model(json_round2_output_file)\n",
    "#enz_model.reactions.get_by_id('EX_glc__D_e_reverse').bounds = (13, 13)\n",
    "pfba_solution = cobra.flux_analysis.pfba(enz_model)\n",
    "pfba_solution_df = pfba_solution.to_frame()\n",
    "pfba_solution_df.to_csv(RiboNpy_solution_df_pfba_file)\n",
    "print(pfba_solution.fluxes[obj_reaction])"
   ]
  },
  {
   "cell_type": "code",
   "execution_count": 247,
   "metadata": {},
   "outputs": [
    {
     "name": "stdout",
     "output_type": "stream",
     "text": [
      "10.0\n"
     ]
    }
   ],
   "source": [
    "#run genome-scale metabolic model\n",
    "norm_model=cobra.io.json.load_json_model(json_round2_output_file)\n",
    "#norm_model.reactions.get_by_id('EX_glc__D_e_reverse').bounds = (13, 13)\n",
    "pfba_solution = cobra.flux_analysis.pfba(norm_model)\n",
    "pfba_solution_df = pfba_solution.to_frame()\n",
    "#pfba_solution_df.to_csv('./analysis/toy/Orimodel_solution_df_pfba.csv')\n",
    "print(pfba_solution.fluxes[obj_reaction])"
   ]
  },
  {
   "attachments": {},
   "cell_type": "markdown",
   "metadata": {},
   "source": [
    "# 4: all-in-one enzyme-constraint function"
   ]
  },
  {
   "cell_type": "code",
   "execution_count": null,
   "metadata": {},
   "outputs": [],
   "source": [
    "model_name = './data/models/toy_model.xml' \n",
    "obj_reaction = 'DM_e4p_c'\n",
    "\n",
    "sequence_length = 79\n",
    "nucleotide_proportion = [0.25,0.25,0.25,0.25]\n",
    "random_proportion = False\n",
    "new_ribozyme = True\n",
    "\n",
    "reaction_fraction = 0\n",
    "selection_type = 'random'\n",
    "new_reaction_selection = True\n",
    "\n",
    "biosynth_costs = False\n",
    "biosynth_costs_penalty = 1.320773\n",
    "\n",
    "ef_factor = 1\n",
    "\n",
    "obj_solution = get_ribozyme_constraint_model_pfba_obj_solution(model_name, obj_reaction, sequence_length, nucleotide_proportion, random_proportion, new_ribozyme, reaction_fraction, selection_type, new_reaction_selection, biosynth_costs, biosynth_costs_penalty, ef_factor)"
   ]
  }
 ],
 "metadata": {
  "kernelspec": {
   "display_name": "Python 3",
   "language": "python",
   "name": "python3"
  },
  "language_info": {
   "codemirror_mode": {
    "name": "ipython",
    "version": 3
   },
   "file_extension": ".py",
   "mimetype": "text/x-python",
   "name": "python",
   "nbconvert_exporter": "python",
   "pygments_lexer": "ipython3",
   "version": "3.10.8"
  },
  "orig_nbformat": 4,
  "vscode": {
   "interpreter": {
    "hash": "162805d861223990fbee0972ed12f9be628b31f8b6842b220d207744051d74d5"
   }
  }
 },
 "nbformat": 4,
 "nbformat_minor": 2
}
