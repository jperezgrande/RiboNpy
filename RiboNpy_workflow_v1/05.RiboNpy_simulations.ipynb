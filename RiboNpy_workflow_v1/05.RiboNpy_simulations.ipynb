{
 "cells": [
  {
   "attachments": {},
   "cell_type": "markdown",
   "metadata": {},
   "source": [
    "# **Simulations performed using RiboNpy**"
   ]
  },
  {
   "attachments": {},
   "cell_type": "markdown",
   "metadata": {},
   "source": [
    "# Import related pacakages"
   ]
  },
  {
   "cell_type": "code",
   "execution_count": null,
   "metadata": {},
   "outputs": [],
   "source": [
    "import cobra\n",
    "import sys\n",
    "import pandas as pd\n",
    "import numpy as np\n",
    "import plotly.express as px\n",
    "\n",
    "sys.path.append(r'./code/')\n",
    "from ribonpy_core_functions import *"
   ]
  },
  {
   "attachments": {},
   "cell_type": "markdown",
   "metadata": {},
   "source": [
    "# All-in-one enzyme-constraint function"
   ]
  },
  {
   "cell_type": "code",
   "execution_count": null,
   "metadata": {},
   "outputs": [],
   "source": [
    "model_name = './data/models/toy_model.xml' \n",
    "obj_reaction = 'DM_e4p_c'\n",
    "\n",
    "sequence_length = 79\n",
    "nucleotide_proportion = [0.25,0.25,0.25,0.25]\n",
    "random_proportion = False\n",
    "new_ribozyme = True\n",
    "\n",
    "reaction_fraction = 0\n",
    "selection_type = 'random'\n",
    "new_reaction_selection = True\n",
    "\n",
    "biosynth_costs = False\n",
    "biosynth_costs_penalty = 1.320773\n",
    "\n",
    "ef_factor = 1\n",
    "\n",
    "obj_solution = get_ribozyme_constraint_model_pfba_obj_solution(model_name, obj_reaction, sequence_length, nucleotide_proportion, random_proportion, new_ribozyme, reaction_fraction, selection_type, new_reaction_selection, biosynth_costs, biosynth_costs_penalty, ef_factor)"
   ]
  },
  {
   "attachments": {},
   "cell_type": "markdown",
   "metadata": {},
   "source": [
    "# Effect of ribozyme sequences, structures and weights"
   ]
  },
  {
   "cell_type": "code",
   "execution_count": null,
   "metadata": {},
   "outputs": [],
   "source": [
    "model_name = './data/models/toy_model.xml' \n",
    "obj_reaction = 'DM_e4p_c'\n",
    "\n",
    "sequence_lengths = [35, 79, 115, 377, 754, 893, 1131]\n",
    "nucleotide_proportions = [[0.25, 0.25, 0.25, 0.25],\n",
    "                          [0.10, 0.40, 0.40, 0.10],\n",
    "                          [0.40, 0.10, 0.10, 0.40]] #AGCU\n",
    "\n",
    "results = []\n",
    "\n",
    "for sequence_length in sequence_lengths:\n",
    "    for nucleotide_proportion in nucleotide_proportions:\n",
    "        random_proportion = False\n",
    "        new_ribozyme = True\n",
    "        reaction_fraction = 1\n",
    "        selection_type = 'random'\n",
    "        new_reaction_selection = True\n",
    "        biosynth_costs = True\n",
    "        biosynth_costs_penalty = 1.320773\n",
    "        ef_factor = 0.1\n",
    "            \n",
    "        obj_solution = get_ribozyme_constraint_model_pfba_obj_solution(model_name, obj_reaction, sequence_length, nucleotide_proportion, random_proportion, new_ribozyme, reaction_fraction, selection_type, new_reaction_selection, biosynth_costs, biosynth_costs_penalty, ef_factor)\n",
    "        results.append([sequence_length, nucleotide_proportion, obj_solution])\n",
    "\n",
    "sequence_proportions_results_df = pd.DataFrame(results, columns=['Sequence Length', 'Nucleotide Proportions', 'Flux'])\n",
    "\n",
    "# save the results to a CSV file\n",
    "sequence_proportions_results_df.to_csv('analysis/simulations/RiboNpy_ribozyme_structure_variations_ef01.csv', index=False)\n",
    "sequence_proportions_results_df"
   ]
  },
  {
   "cell_type": "code",
   "execution_count": null,
   "metadata": {},
   "outputs": [],
   "source": [
    "#Convert the 'Nucleotide Proportions' list column to a string column\n",
    "sequence_proportions_results_df['Nucleotide Proportions'] = sequence_proportions_results_df['Nucleotide Proportions'].apply(lambda x: ','.join(map(str, x)))\n",
    "\n",
    "fig = px.bar(sequence_proportions_results_df, x='Sequence Length', y='Flux', color='Nucleotide Proportions', barmode='group', hover_data=['Flux'])\n",
    "fig.show()"
   ]
  },
  {
   "attachments": {},
   "cell_type": "markdown",
   "metadata": {},
   "source": [
    "# Effects of ribozyme activity levels"
   ]
  },
  {
   "cell_type": "code",
   "execution_count": null,
   "metadata": {},
   "outputs": [],
   "source": [
    "model_name = './data/models/toy_model.xml' \n",
    "obj_reaction = 'DM_e4p_c'\n",
    "\n",
    "sequence_lengths = [79, 115, 377, 754]\n",
    "ef_factors = [1, 0.5, 0.1, 0.05, 0.01, 0.005, 0.001, 0.0005, 0.0001, 0.00005, 0.00001]\n",
    "\n",
    "results = []\n",
    "\n",
    "for sequence_length in sequence_lengths:\n",
    "    for ef_factor in ef_factors:\n",
    "        nucleotide_proportion = [0.25, 0.25, 0.25, 0.25]\n",
    "        random_proportion = False\n",
    "        new_ribozyme = True\n",
    "        reaction_fraction = 1\n",
    "        selection_type = 'random'\n",
    "        new_reaction_selection = True\n",
    "        biosynth_costs = True\n",
    "        biosynth_costs_penalty = 1.320773\n",
    "        \n",
    "        obj_solution = get_ribozyme_constraint_model_pfba_obj_solution(model_name, obj_reaction, sequence_length, nucleotide_proportion, random_proportion, new_ribozyme, reaction_fraction, selection_type, new_reaction_selection, biosynth_costs, biosynth_costs_penalty, ef_factor)\n",
    "        \n",
    "        modified_reaction_kcat_mw_df = calculate_modified_reaction_kcat_mw(reaction_kcat_file, modified_biosynthesis_reaction_MW_file, modified_reaction_kcat_MW_file, select_key, ef_factor)\n",
    "\n",
    "        kcat_MW_change = round(modified_reaction_kcat_mw_df['kcat_MW'].mean(),2)\n",
    "\n",
    "        results.append([sequence_length, ef_factor, kcat_MW_change, obj_solution])\n",
    "\n",
    "efficiency_results_df = pd.DataFrame(results, columns=['Sequence Length', 'Efficiency factor', 'kcat_MW', 'Flux'])\n",
    "\n",
    "# save the results to a CSV file\n",
    "efficiency_results_df.to_csv('analysis/simulations/RiboNpy_ribozyme_efficiency_variations.csv', index=False)\n",
    "efficiency_results_df"
   ]
  },
  {
   "cell_type": "code",
   "execution_count": null,
   "metadata": {},
   "outputs": [],
   "source": [
    "fig = px.bar(efficiency_results_df, x='Efficiency factor', y='Flux', color='Sequence Length', barmode='group', hover_data=['Flux'])\n",
    "fig.show()"
   ]
  }
 ],
 "metadata": {
  "kernelspec": {
   "display_name": "Python 3",
   "language": "python",
   "name": "python3"
  },
  "language_info": {
   "codemirror_mode": {
    "name": "ipython",
    "version": 3
   },
   "file_extension": ".py",
   "mimetype": "text/x-python",
   "name": "python",
   "nbconvert_exporter": "python",
   "pygments_lexer": "ipython3",
   "version": "3.10.8"
  },
  "orig_nbformat": 4
 },
 "nbformat": 4,
 "nbformat_minor": 2
}
